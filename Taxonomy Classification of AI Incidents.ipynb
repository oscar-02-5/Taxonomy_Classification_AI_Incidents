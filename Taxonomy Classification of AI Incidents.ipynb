{
 "cells": [
  {
   "cell_type": "markdown",
   "metadata": {},
   "source": [
    "# Taxonomy Classification of AI Incidents"
   ]
  },
  {
   "cell_type": "code",
   "execution_count": 1,
   "metadata": {},
   "outputs": [],
   "source": [
    "import pandas as pd\n",
    "from IPython.display import Markdown"
   ]
  },
  {
   "cell_type": "markdown",
   "metadata": {},
   "source": [
    "Open the Incidents Data Base:"
   ]
  },
  {
   "cell_type": "code",
   "execution_count": 33,
   "metadata": {},
   "outputs": [
    {
     "name": "stdout",
     "output_type": "stream",
     "text": [
      "Index(['_id', 'incident_id', 'date', 'reports',\n",
      "       'Alleged deployer of AI system', 'Alleged developer of AI system',\n",
      "       'Alleged harmed or nearly harmed parties', 'description', 'title'],\n",
      "      dtype='object')\n",
      "                                  _id  incident_id        date  \\\n",
      "0  ObjectId(625763de343edc875fe63a15)           23  2017-11-08   \n",
      "1  ObjectId(625763dc343edc875fe63a02)            4  2018-03-18   \n",
      "2  ObjectId(625763db343edc875fe639ff)            1  2015-05-19   \n",
      "\n",
      "                                             reports  \\\n",
      "0  [242,243,244,245,246,247,248,249,250,253,254,2...   \n",
      "1  [629,630,631,632,633,634,635,636,637,638,639,6...   \n",
      "2                 [1,2,3,4,5,6,7,8,9,10,11,12,14,15]   \n",
      "\n",
      "      Alleged deployer of AI system    Alleged developer of AI system  \\\n",
      "0  [\"navya\",\"keolis-north-america\"]  [\"navya\",\"keolis-north-america\"]   \n",
      "1                          [\"uber\"]                          [\"uber\"]   \n",
      "2                       [\"youtube\"]                       [\"youtube\"]   \n",
      "\n",
      "             Alleged harmed or nearly harmed parties  \\\n",
      "0  [\"navya\",\"keolis-north-america\",\"bus-passengers\"]   \n",
      "1                  [\"elaine-herzberg\",\"pedestrians\"]   \n",
      "2                                       [\"children\"]   \n",
      "\n",
      "                                         description  \\\n",
      "0  A self-driving public shuttle by Keolis North ...   \n",
      "1  An Uber autonomous vehicle (AV) in autonomous ...   \n",
      "2  YouTube’s content filtering and recommendation...   \n",
      "\n",
      "                                               title  \n",
      "0    Las Vegas Self-Driving Bus Involved in Accident  \n",
      "1               Uber AV Killed Pedestrian in Arizona  \n",
      "2  Google’s YouTube Kids App Presents Inappropria...  \n",
      "_id                                                       ObjectId(625763de343edc875fe63a15)\n",
      "incident_id                                                                               23\n",
      "date                                                                              2017-11-08\n",
      "reports                                    [242,243,244,245,246,247,248,249,250,253,254,2...\n",
      "Alleged deployer of AI system                               [\"navya\",\"keolis-north-america\"]\n",
      "Alleged developer of AI system                              [\"navya\",\"keolis-north-america\"]\n",
      "Alleged harmed or nearly harmed parties    [\"navya\",\"keolis-north-america\",\"bus-passengers\"]\n",
      "description                                A self-driving public shuttle by Keolis North ...\n",
      "title                                        Las Vegas Self-Driving Bus Involved in Accident\n",
      "Name: 0, dtype: object\n"
     ]
    }
   ],
   "source": [
    "csv_file = 'C:/Users/34649/Desktop/UNIVERSIDAD/CUARTO/Taxonomy Classification of AI Incidents/backup-20230925101051/mongodump/incidents.csv'\n",
    "\n",
    "# Read the CSV file into a DataFrame\n",
    "incidents = pd.read_csv(csv_file)\n",
    "\n",
    "\n",
    "print(incidents.columns)\n",
    "print(incidents.head(3))\n",
    "print(incidents.iloc[0])\n"
   ]
  },
  {
   "cell_type": "code",
   "execution_count": 5,
   "metadata": {},
   "outputs": [],
   "source": [
    "# It seems to be 2 equal columns with name \"Alleged deployer of AI system\"\n",
    "index1 = 4\n",
    "index2 = 5\n",
    "selected_column1 = incidents.iloc[:, index1]\n",
    "selected_column2 = incidents.iloc[:, index2]"
   ]
  },
  {
   "cell_type": "code",
   "execution_count": 6,
   "metadata": {},
   "outputs": [
    {
     "name": "stdout",
     "output_type": "stream",
     "text": [
      "The two columns are not exactly the same.\n"
     ]
    }
   ],
   "source": [
    "# Check if the two columns are exactly the same\n",
    "equal_columns = (selected_column1 == selected_column2)\n",
    "\n",
    "# Check if all values in the 'equal_columns' columns are True\n",
    "if equal_columns.all():\n",
    "    print(\"The two columns are exactly the same.\")\n",
    "else:\n",
    "    print(\"The two columns are not exactly the same.\")"
   ]
  },
  {
   "cell_type": "code",
   "execution_count": 7,
   "metadata": {},
   "outputs": [
    {
     "name": "stdout",
     "output_type": "stream",
     "text": [
      "Column 1: \n",
      " 0                [\"navya\",\"keolis-north-america\"]\n",
      "1                                        [\"uber\"]\n",
      "2                                     [\"youtube\"]\n",
      "3                                      [\"google\"]\n",
      "4      [\"microsoft-research\",\"boston-university\"]\n",
      "                          ...                    \n",
      "551                                    [\"cruise\"]\n",
      "552                                  [\"scammers\"]\n",
      "553                        [\"chinese-government\"]\n",
      "554                                   [\"gannett\"]\n",
      "555                            [\"unknown-hacker\"]\n",
      "Name: Alleged deployer of AI system, Length: 556, dtype: object\n",
      "Column 2: \n",
      " 0                       [\"navya\",\"keolis-north-america\"]\n",
      "1                                               [\"uber\"]\n",
      "2                                            [\"youtube\"]\n",
      "3                                             [\"google\"]\n",
      "4      [\"microsoft-research\",\"google\",\"boston-univers...\n",
      "                             ...                        \n",
      "551                                           [\"cruise\"]\n",
      "552                                          [\"unknown\"]\n",
      "553                                          [\"unknown\"]\n",
      "554                                           [\"ledeai\"]\n",
      "555                                          [\"unknown\"]\n",
      "Name: Alleged developer of AI system, Length: 556, dtype: object\n"
     ]
    }
   ],
   "source": [
    "print(\"Column 1: \\n\", selected_column1)\n",
    "print(\"Column 2: \\n\", selected_column2)"
   ]
  },
  {
   "cell_type": "markdown",
   "metadata": {},
   "source": [
    "Same column name but different components inside it."
   ]
  },
  {
   "cell_type": "code",
   "execution_count": 8,
   "metadata": {},
   "outputs": [
    {
     "name": "stdout",
     "output_type": "stream",
     "text": [
      "An Uber autonomous vehicle (AV) in autonomous mode struck and killed a pedestrian in Tempe, Arizona.\n"
     ]
    }
   ],
   "source": [
    "print(incidents.iloc[1][\"description\"])"
   ]
  },
  {
   "cell_type": "code",
   "execution_count": 9,
   "metadata": {},
   "outputs": [
    {
     "data": {
      "text/markdown": [
       "The number of rows in incidents data set is 556"
      ],
      "text/plain": [
       "<IPython.core.display.Markdown object>"
      ]
     },
     "execution_count": 9,
     "metadata": {},
     "output_type": "execute_result"
    }
   ],
   "source": [
    "Markdown(\"The number of rows in incidents data set is \"+str(len(incidents[\"_id\"])))"
   ]
  },
  {
   "cell_type": "markdown",
   "metadata": {},
   "source": [
    "Open the Reports Data Base:"
   ]
  },
  {
   "cell_type": "code",
   "execution_count": 10,
   "metadata": {},
   "outputs": [
    {
     "name": "stdout",
     "output_type": "stream",
     "text": [
      "Index(['_id', 'incident_id', 'authors', 'date_downloaded', 'date_modified',\n",
      "       'date_published', 'date_submitted', 'description',\n",
      "       'epoch_date_downloaded', 'epoch_date_modified', 'epoch_date_published',\n",
      "       'epoch_date_submitted', 'image_url', 'language', 'ref_number',\n",
      "       'report_number', 'source_domain', 'submitters', 'text', 'title', 'url',\n",
      "       'tags'],\n",
      "      dtype='object')\n",
      "                                  _id  incident_id               authors  \\\n",
      "0  ObjectId(5d34b8c29ced494f010ed45a)          NaN     [\"Alistair Barr\"]   \n",
      "1  ObjectId(5d34b8c29ced494f010ed461)          NaN  [\"Sapna Maheshwari\"]   \n",
      "2  ObjectId(5d34b8c29ced494f010ed464)          NaN    [\"K.G Orphanides\"]   \n",
      "\n",
      "  date_downloaded date_modified date_published date_submitted  \\\n",
      "0      2019-04-13    2020-06-14     2015-05-19     2019-06-01   \n",
      "1      2019-04-13    2020-06-14     2018-04-26     2019-06-01   \n",
      "2      2019-04-13    2020-06-14     2018-03-23     2019-06-01   \n",
      "\n",
      "                                         description  epoch_date_downloaded  \\\n",
      "0  Child and consumer advocacy groups complained ...             1555113600   \n",
      "1  Parents will be able to handpick the channels ...             1555113600   \n",
      "2  Children's search terms on YouTube are still a...             1555113600   \n",
      "\n",
      "   epoch_date_modified  ...  \\\n",
      "0           1592092800  ...   \n",
      "1           1592092800  ...   \n",
      "2           1592092800  ...   \n",
      "\n",
      "                                           image_url  language ref_number  \\\n",
      "0  http://si.wsj.net/public/resources/images/BN-I...        en        NaN   \n",
      "1  https://static01.nyt.com/images/2017/11/07/bus...        en        NaN   \n",
      "2  https://wi-images.condecdn.net/image/ye8GWkPPM...        en        NaN   \n",
      "\n",
      "  report_number  source_domain            submitters  \\\n",
      "0             1  blogs.wsj.com  [\"Roman Yampolskiy\"]   \n",
      "1             8    nytimes.com  [\"Roman Yampolskiy\"]   \n",
      "2            11    wired.co.uk  [\"Roman Yampolskiy\"]   \n",
      "\n",
      "                                                text  \\\n",
      "0  Child and consumer advocacy groups complained ...   \n",
      "1  YouTube Kids, which has been criticized for in...   \n",
      "2  Video still of a reproduced version of Minnie ...   \n",
      "\n",
      "                                               title  \\\n",
      "0  Google’s YouTube Kids App Criticized for ‘Inap...   \n",
      "1  YouTube Kids, Criticized for Content, Introduc...   \n",
      "2  Children's YouTube is still churning out blood...   \n",
      "\n",
      "                                                 url tags  \n",
      "0  https://blogs.wsj.com/digits/2015/05/19/google...   []  \n",
      "1  https://www.nytimes.com/2018/04/25/business/me...   []  \n",
      "2  https://www.wired.co.uk/article/youtube-for-ki...   []  \n",
      "\n",
      "[3 rows x 22 columns]\n",
      "_id                                     ObjectId(5d34b8c29ced494f010ed45a)\n",
      "incident_id                                                            NaN\n",
      "authors                                                  [\"Alistair Barr\"]\n",
      "date_downloaded                                                 2019-04-13\n",
      "date_modified                                                   2020-06-14\n",
      "date_published                                                  2015-05-19\n",
      "date_submitted                                                  2019-06-01\n",
      "description              Child and consumer advocacy groups complained ...\n",
      "epoch_date_downloaded                                           1555113600\n",
      "epoch_date_modified                                             1592092800\n",
      "epoch_date_published                                            1431993600\n",
      "epoch_date_submitted                                            1559347200\n",
      "image_url                http://si.wsj.net/public/resources/images/BN-I...\n",
      "language                                                                en\n",
      "ref_number                                                             NaN\n",
      "report_number                                                            1\n",
      "source_domain                                                blogs.wsj.com\n",
      "submitters                                            [\"Roman Yampolskiy\"]\n",
      "text                     Child and consumer advocacy groups complained ...\n",
      "title                    Google’s YouTube Kids App Criticized for ‘Inap...\n",
      "url                      https://blogs.wsj.com/digits/2015/05/19/google...\n",
      "tags                                                                    []\n",
      "Name: 0, dtype: object\n"
     ]
    }
   ],
   "source": [
    "csv_file_2 = 'C:/Users/34649/Desktop/UNIVERSIDAD/CUARTO/Taxonomy Classification of AI Incidents/backup-20230925101051/mongodump/reports.csv'\n",
    "\n",
    "# Read the CSV file into a DataFrame\n",
    "reports = pd.read_csv(csv_file_2)\n",
    "\n",
    "\n",
    "print(reports.columns)\n",
    "print(reports.head(3))\n",
    "print(reports.iloc[0])"
   ]
  },
  {
   "cell_type": "code",
   "execution_count": 11,
   "metadata": {},
   "outputs": [
    {
     "name": "stdout",
     "output_type": "stream",
     "text": [
      "0       Child and consumer advocacy groups complained ...\n",
      "1       Parents will be able to handpick the channels ...\n",
      "2       Children's search terms on YouTube are still a...\n",
      "3       Investigators found several unsuitable videos ...\n",
      "4       YouTube removed videos from conspiracy theoris...\n",
      "                              ...                        \n",
      "3023                                                  NaN\n",
      "3024                                                  NaN\n",
      "3025                                                  NaN\n",
      "3026                                                  NaN\n",
      "3027                                                  NaN\n",
      "Name: description, Length: 3028, dtype: object\n"
     ]
    }
   ],
   "source": [
    "print(reports[\"description\"])"
   ]
  },
  {
   "cell_type": "code",
   "execution_count": 12,
   "metadata": {},
   "outputs": [
    {
     "data": {
      "text/markdown": [
       "The number of rows in reports data set is 3028"
      ],
      "text/plain": [
       "<IPython.core.display.Markdown object>"
      ]
     },
     "execution_count": 12,
     "metadata": {},
     "output_type": "execute_result"
    }
   ],
   "source": [
    "Markdown(\"The number of rows in reports data set is \"+str(len(reports[\"_id\"])))"
   ]
  },
  {
   "cell_type": "markdown",
   "metadata": {},
   "source": [
    "We have more reports than incidents, that could mean that the reports are linked to the incidents and there are several reports for a same incident, let's check the columns."
   ]
  },
  {
   "cell_type": "code",
   "execution_count": 13,
   "metadata": {},
   "outputs": [
    {
     "name": "stdout",
     "output_type": "stream",
     "text": [
      "     incident_id                                            reports\n",
      "0             23  [242,243,244,245,246,247,248,249,250,253,254,2...\n",
      "1              4  [629,630,631,632,633,634,635,636,637,638,639,6...\n",
      "2              1                 [1,2,3,4,5,6,7,8,9,10,11,12,14,15]\n",
      "3             18    [130,131,132,133,134,135,136,137,138,1367,1368]\n",
      "4             12                                               [42]\n",
      "..           ...                                                ...\n",
      "551          563                                             [3208]\n",
      "552          564                                             [3209]\n",
      "553          565                              [3210,3211,3212,3213]\n",
      "554          566                                             [3214]\n",
      "555          567                                             [3215]\n",
      "\n",
      "[556 rows x 2 columns]\n"
     ]
    }
   ],
   "source": [
    "print(incidents[[\"incident_id\", \"reports\"]])"
   ]
  },
  {
   "cell_type": "code",
   "execution_count": 14,
   "metadata": {},
   "outputs": [
    {
     "name": "stdout",
     "output_type": "stream",
     "text": [
      "                                     _id  incident_id  report_number\n",
      "0     ObjectId(5d34b8c29ced494f010ed45a)          NaN              1\n",
      "1     ObjectId(5d34b8c29ced494f010ed461)          NaN              8\n",
      "2     ObjectId(5d34b8c29ced494f010ed464)          NaN             11\n",
      "3     ObjectId(5d34b8c29ced494f010ed45b)          NaN              2\n",
      "4     ObjectId(5d34b8c29ced494f010ed462)          NaN              9\n",
      "...                                  ...          ...            ...\n",
      "3023  ObjectId(6501b0b9f1fbd47bfee2b13c)          NaN           3211\n",
      "3024  ObjectId(6501b0d3f1fbd47bfee2ccc5)          NaN           3212\n",
      "3025  ObjectId(6501b0e467e864e1df02c317)          NaN           3213\n",
      "3026  ObjectId(6501b284214e764d67cc259f)          NaN           3214\n",
      "3027  ObjectId(6508bddd5a537311de811b86)          NaN           3215\n",
      "\n",
      "[3028 rows x 3 columns]\n"
     ]
    }
   ],
   "source": [
    "print(reports[[\"_id\", \"incident_id\",\"report_number\" ]])"
   ]
  },
  {
   "cell_type": "markdown",
   "metadata": {},
   "source": [
    "We will have to match report numbers and incidents id's to have all the information."
   ]
  },
  {
   "cell_type": "markdown",
   "metadata": {},
   "source": [
    "# Statistical Analysis of the Database"
   ]
  },
  {
   "cell_type": "markdown",
   "metadata": {},
   "source": [
    "### 1. Understand the given data."
   ]
  },
  {
   "cell_type": "code",
   "execution_count": 38,
   "metadata": {},
   "outputs": [
    {
     "name": "stdout",
     "output_type": "stream",
     "text": [
      "Columns of the dataframe: Index(['_id', 'incident_id', 'authors', 'date_downloaded', 'date_modified',\n",
      "       'date_published', 'date_submitted', 'description',\n",
      "       'epoch_date_downloaded', 'epoch_date_modified', 'epoch_date_published',\n",
      "       'epoch_date_submitted', 'image_url', 'language', 'ref_number',\n",
      "       'report_number', 'source_domain', 'submitters', 'text', 'title', 'url',\n",
      "       'tags'],\n",
      "      dtype='object') \n",
      "\n",
      "_id                                     ObjectId(5d34b8c29ced494f010ed45a)\n",
      "incident_id                                                            NaN\n",
      "authors                                                  [\"Alistair Barr\"]\n",
      "date_downloaded                                                 2019-04-13\n",
      "date_modified                                                   2020-06-14\n",
      "date_published                                                  2015-05-19\n",
      "date_submitted                                                  2019-06-01\n",
      "description              Child and consumer advocacy groups complained ...\n",
      "epoch_date_downloaded                                           1555113600\n",
      "epoch_date_modified                                             1592092800\n",
      "epoch_date_published                                            1431993600\n",
      "epoch_date_submitted                                            1559347200\n",
      "image_url                http://si.wsj.net/public/resources/images/BN-I...\n",
      "language                                                                en\n",
      "ref_number                                                             NaN\n",
      "report_number                                                            1\n",
      "source_domain                                                blogs.wsj.com\n",
      "submitters                                            [\"Roman Yampolskiy\"]\n",
      "text                     Child and consumer advocacy groups complained ...\n",
      "title                    Google’s YouTube Kids App Criticized for ‘Inap...\n",
      "url                      https://blogs.wsj.com/digits/2015/05/19/google...\n",
      "tags                                                                    []\n",
      "Name: 0, dtype: object \n",
      "\n",
      "Data type of all columns: \n",
      " _id                       object\n",
      "incident_id              float64\n",
      "authors                   object\n",
      "date_downloaded           object\n",
      "date_modified             object\n",
      "date_published            object\n",
      "date_submitted            object\n",
      "description               object\n",
      "epoch_date_downloaded      int64\n",
      "epoch_date_modified        int64\n",
      "epoch_date_published       int64\n",
      "epoch_date_submitted       int64\n",
      "image_url                 object\n",
      "language                  object\n",
      "ref_number               float64\n",
      "report_number              int64\n",
      "source_domain             object\n",
      "submitters                object\n",
      "text                      object\n",
      "title                     object\n",
      "url                       object\n",
      "tags                      object\n",
      "dtype: object\n"
     ]
    }
   ],
   "source": [
    "# Read the CSV file into a DataFrame\n",
    "csv_file = 'C:/Users/algar/Documents/UC3M/Data Science and Engineering/Academic Year 3/Data Science Project/GitHub/Taxonomy_Classification_AI/mongodump/reports.csv'\n",
    "reports = pd.read_csv(csv_file)\n",
    "\n",
    "# Get the name of the columns\n",
    "print(\"Columns of the dataframe:\", reports.columns, \"\\n\")\n",
    "\n",
    "# See the first line of the dataframe\n",
    "print(reports.iloc[0], \"\\n\")\n",
    "\n",
    "# Understand the type of all the columns\n",
    "print(\"Data type of all columns: \\n\", reports.dtypes)\n"
   ]
  },
  {
   "cell_type": "markdown",
   "metadata": {},
   "source": [
    "As observed in the output from above, there is some information that may not be relevant, as it is the case for columns \"_id\" and \"image_url\". Hence, we proceed to erase it from the dataframe."
   ]
  },
  {
   "cell_type": "code",
   "execution_count": 29,
   "metadata": {},
   "outputs": [],
   "source": [
    "reports.drop([\"_id\", \"image_url\"], axis=1, inplace=True)  # axis=1 refers to columns"
   ]
  },
  {
   "cell_type": "code",
   "execution_count": 31,
   "metadata": {},
   "outputs": [
    {
     "name": "stdout",
     "output_type": "stream",
     "text": [
      "Columns of the dataframe: Index(['incident_id', 'authors', 'date_downloaded', 'date_modified',\n",
      "       'date_published', 'date_submitted', 'description',\n",
      "       'epoch_date_downloaded', 'epoch_date_modified', 'epoch_date_published',\n",
      "       'epoch_date_submitted', 'language', 'ref_number', 'report_number',\n",
      "       'source_domain', 'submitters', 'text', 'title', 'url', 'tags'],\n",
      "      dtype='object')\n"
     ]
    }
   ],
   "source": [
    "# Check if the columns were dropped\n",
    "print(\"Columns of the dataframe:\", reports.columns)"
   ]
  },
  {
   "cell_type": "markdown",
   "metadata": {},
   "source": [
    "### 2. Check for missing values."
   ]
  },
  {
   "cell_type": "code",
   "execution_count": 40,
   "metadata": {},
   "outputs": [
    {
     "name": "stdout",
     "output_type": "stream",
     "text": [
      "Missing values in each column: \n",
      " _id                         0\n",
      "incident_id              3028\n",
      "authors                     0\n",
      "date_downloaded             0\n",
      "date_modified               0\n",
      "date_published              0\n",
      "date_submitted              0\n",
      "description              1011\n",
      "epoch_date_downloaded       0\n",
      "epoch_date_modified         0\n",
      "epoch_date_published        0\n",
      "epoch_date_submitted        0\n",
      "image_url                  14\n",
      "language                    0\n",
      "ref_number               3028\n",
      "report_number               0\n",
      "source_domain               3\n",
      "submitters                  0\n",
      "text                        0\n",
      "title                       3\n",
      "url                         3\n",
      "tags                        0\n",
      "dtype: int64\n",
      "\n"
     ]
    }
   ],
   "source": [
    "# Check for missing values in each column\n",
    "missing_values = reports.isnull().sum()\n",
    "print(\"Missing values in each column: \\n\", missing_values)\n"
   ]
  }
 ],
 "metadata": {
  "kernelspec": {
   "display_name": "Python 3 (ipykernel)",
   "language": "python",
   "name": "python3"
  },
  "language_info": {
   "codemirror_mode": {
    "name": "ipython",
    "version": 3
   },
   "file_extension": ".py",
   "mimetype": "text/x-python",
   "name": "python",
   "nbconvert_exporter": "python",
   "pygments_lexer": "ipython3",
   "version": "3.11.4"
  }
 },
 "nbformat": 4,
 "nbformat_minor": 2
}
