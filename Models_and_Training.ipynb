{
  "cells": [
    {
      "cell_type": "markdown",
      "metadata": {
        "id": "srspbYt0xaCj"
      },
      "source": [
        "# Import necessary libraries"
      ]
    },
    {
      "cell_type": "code",
      "source": [
        "# !pip install datasets\n",
        "# !pip install evaluate\n",
        "# !pip install transformers\n",
        "# !pip install accelerate -U\n",
        "# !pip install transformers[torch]"
      ],
      "metadata": {
        "id": "frBRdacFyNXF"
      },
      "execution_count": 1,
      "outputs": []
    },
    {
      "cell_type": "code",
      "execution_count": 2,
      "metadata": {
        "id": "KvPVAX9mxaCm"
      },
      "outputs": [],
      "source": [
        "import pandas as pd\n",
        "import numpy as np\n",
        "import matplotlib.pyplot as plt\n",
        "from sklearn.model_selection import train_test_split\n",
        "from sklearn.metrics import accuracy_score, precision_recall_fscore_support\n",
        "from sklearn.metrics import f1_score\n",
        "from sklearn.preprocessing import LabelEncoder, LabelBinarizer\n",
        "\n",
        "import transformers\n",
        "import torch\n",
        "import accelerate\n",
        "from datasets import Dataset, DatasetDict, load_metric\n",
        "import evaluate\n",
        "import tensorflow as tf\n",
        "\n",
        "from transformers import DistilBertTokenizer,TFDistilBertForSequenceClassification, TFTrainer, TFTrainingArguments\n",
        "from transformers import InputExample, InputFeatures\n",
        "from transformers import AutoTokenizer, AutoModelForSequenceClassification, TrainingArguments, Trainer"
      ]
    },
    {
      "cell_type": "code",
      "source": [
        "from shutil import copyfile\n",
        "from google.colab import drive\n",
        "import os, sys\n",
        "drive.mount('/content/drive')\n",
        "\n",
        "copyfile('/content/drive/My Drive/Taxonomy_Classification_AI/labeled_incidents.csv', 'labeled_incidents.csv')"
      ],
      "metadata": {
        "colab": {
          "base_uri": "https://localhost:8080/",
          "height": 73
        },
        "id": "XOV-LGSixn8F",
        "outputId": "c48d2316-3471-4808-81e5-4379536723d0"
      },
      "execution_count": 3,
      "outputs": [
        {
          "output_type": "stream",
          "name": "stdout",
          "text": [
            "Drive already mounted at /content/drive; to attempt to forcibly remount, call drive.mount(\"/content/drive\", force_remount=True).\n"
          ]
        },
        {
          "output_type": "execute_result",
          "data": {
            "text/plain": [
              "'labeled_incidents.csv'"
            ],
            "application/vnd.google.colaboratory.intrinsic+json": {
              "type": "string"
            }
          },
          "metadata": {},
          "execution_count": 3
        }
      ]
    },
    {
      "cell_type": "markdown",
      "metadata": {
        "id": "dfz6yE-NxaCn"
      },
      "source": [
        "Open the labeled dataset of Incidents:"
      ]
    },
    {
      "cell_type": "code",
      "execution_count": 4,
      "metadata": {
        "id": "dfNnPmLzxaCn"
      },
      "outputs": [],
      "source": [
        "df = pd.read_csv(\"labeled_incidents.csv\")\n",
        "\n",
        "df = df.loc[:, ['labels', 'description']]\n"
      ]
    },
    {
      "cell_type": "markdown",
      "metadata": {
        "id": "slxpAC5PxaCo"
      },
      "source": [
        "Check NA's:"
      ]
    },
    {
      "cell_type": "code",
      "execution_count": 5,
      "metadata": {
        "colab": {
          "base_uri": "https://localhost:8080/"
        },
        "id": "dQ4PJ_tcxaCo",
        "outputId": "cac2d231-8856-4220-d5bb-e0dddc5f5dbc"
      },
      "outputs": [
        {
          "output_type": "stream",
          "name": "stdout",
          "text": [
            "Missing values in each column: \n",
            " labels         0\n",
            "description    0\n",
            "dtype: int64\n"
          ]
        }
      ],
      "source": [
        "missing_values = df.isnull().sum()\n",
        "print(\"Missing values in each column: \\n\", missing_values)"
      ]
    },
    {
      "cell_type": "markdown",
      "metadata": {
        "id": "TtNWQ3VYxaCo"
      },
      "source": [
        "In the column \"clean-review\" we have the descriptions lemmatazied and pre-processed, the *__corpus__*.\n",
        "\n",
        "So, we only need to re-do those steps that come after the creation of the corpus, if necessary."
      ]
    },
    {
      "cell_type": "markdown",
      "metadata": {
        "id": "tA7Na8FuxaCo"
      },
      "source": [
        "#### __CLASSIFICATION__"
      ]
    },
    {
      "cell_type": "markdown",
      "metadata": {
        "id": "rPMt3yljxaCp"
      },
      "source": [
        "Classification using __TFBertForSequenceClassification__ from hugging face"
      ]
    },
    {
      "cell_type": "markdown",
      "metadata": {
        "id": "UpJv410-xaCp"
      },
      "source": [
        "FIRST LET'S DO THE NECESSARY CHANGES TO THE DF TO WORK WITH HUGGING FACE MODELS:"
      ]
    },
    {
      "cell_type": "code",
      "execution_count": 6,
      "metadata": {
        "colab": {
          "base_uri": "https://localhost:8080/"
        },
        "id": "bnvniWUtxaCp",
        "outputId": "b802ce53-2f37-4c44-e863-14d225f5ccdb"
      },
      "outputs": [
        {
          "output_type": "stream",
          "name": "stdout",
          "text": [
            "SOCIAL HARM             218\n",
            "OPERATIONAL INCIDENT    145\n",
            "SECURITY AND SAFETY     135\n",
            "PRIVACY VIOLATION        58\n",
            "Name: labels, dtype: int64 \n",
            "\n"
          ]
        }
      ],
      "source": [
        "value_count=df['labels'].value_counts()\n",
        "print(value_count, \"\\n\")"
      ]
    },
    {
      "cell_type": "code",
      "source": [
        "# df['category'] = pd.Categorical(df.labels, ordered=True).codes\n",
        "df['category'] = df['labels'].astype('category').cat.codes\n",
        "df['category'].unique()"
      ],
      "metadata": {
        "colab": {
          "base_uri": "https://localhost:8080/"
        },
        "id": "zk-xqodEE-4z",
        "outputId": "875a9efd-ebd6-4012-d080-72b3f9f7e154"
      },
      "execution_count": 7,
      "outputs": [
        {
          "output_type": "execute_result",
          "data": {
            "text/plain": [
              "array([2, 3, 0, 1], dtype=int8)"
            ]
          },
          "metadata": {},
          "execution_count": 7
        }
      ]
    },
    {
      "cell_type": "code",
      "source": [
        "value_count=df['category'].value_counts()\n",
        "print(value_count, \"\\n\")"
      ],
      "metadata": {
        "colab": {
          "base_uri": "https://localhost:8080/"
        },
        "id": "GAH9iiKZF2cx",
        "outputId": "7ffa890b-381d-4e9f-bb1b-a4994db38df8"
      },
      "execution_count": 8,
      "outputs": [
        {
          "output_type": "stream",
          "name": "stdout",
          "text": [
            "3    218\n",
            "0    145\n",
            "2    135\n",
            "1     58\n",
            "Name: category, dtype: int64 \n",
            "\n"
          ]
        }
      ]
    },
    {
      "cell_type": "code",
      "source": [
        "mapLabels = pd.DataFrame(df.groupby(['category', 'labels']).count())\n",
        "\n",
        "#drop count column\n",
        "mapLabels.drop(['description'], axis = 1, inplace = True)\n",
        "label2Index = mapLabels.to_dict(orient='index')\n",
        "\n",
        "print (f\"label2Index :{label2Index}\")\n",
        "print (type(label2Index))\n",
        "#print (f\"index2Label :{index2Label}\")"
      ],
      "metadata": {
        "colab": {
          "base_uri": "https://localhost:8080/"
        },
        "id": "aEufQqG4F5-C",
        "outputId": "7c7209fd-f752-4568-ba41-1ad102aec401"
      },
      "execution_count": 9,
      "outputs": [
        {
          "output_type": "stream",
          "name": "stdout",
          "text": [
            "label2Index :{(0, 'OPERATIONAL INCIDENT'): {}, (1, 'PRIVACY VIOLATION'): {}, (2, 'SECURITY AND SAFETY'): {}, (3, 'SOCIAL HARM'): {}}\n",
            "<class 'dict'>\n"
          ]
        }
      ]
    },
    {
      "cell_type": "code",
      "source": [
        "index2label = {}\n",
        "\n",
        "for key in label2Index:\n",
        "  print (f\"{key[1]} -> {key[0]}\")\n",
        "  index2label[key[1]] = key[0]"
      ],
      "metadata": {
        "colab": {
          "base_uri": "https://localhost:8080/"
        },
        "id": "0cHC7yaBE-2B",
        "outputId": "d166c006-69fe-4106-8700-b3c01f295a1a"
      },
      "execution_count": 10,
      "outputs": [
        {
          "output_type": "stream",
          "name": "stdout",
          "text": [
            "OPERATIONAL INCIDENT -> 0\n",
            "PRIVACY VIOLATION -> 1\n",
            "SECURITY AND SAFETY -> 2\n",
            "SOCIAL HARM -> 3\n"
          ]
        }
      ]
    },
    {
      "cell_type": "code",
      "source": [
        "label2Index = {v: k for k, v in index2label.items()}\n",
        "\n",
        "print (f'label2Index: {label2Index}')\n",
        "print (f'index2label: {index2label}')"
      ],
      "metadata": {
        "colab": {
          "base_uri": "https://localhost:8080/"
        },
        "id": "sYrQBjdnE-zA",
        "outputId": "18e68108-199e-4072-fb23-7eecc94247e3"
      },
      "execution_count": 11,
      "outputs": [
        {
          "output_type": "stream",
          "name": "stdout",
          "text": [
            "label2Index: {0: 'OPERATIONAL INCIDENT', 1: 'PRIVACY VIOLATION', 2: 'SECURITY AND SAFETY', 3: 'SOCIAL HARM'}\n",
            "index2label: {'OPERATIONAL INCIDENT': 0, 'PRIVACY VIOLATION': 1, 'SECURITY AND SAFETY': 2, 'SOCIAL HARM': 3}\n"
          ]
        }
      ]
    },
    {
      "cell_type": "code",
      "source": [
        "df.head()"
      ],
      "metadata": {
        "colab": {
          "base_uri": "https://localhost:8080/",
          "height": 258
        },
        "id": "cf9GfWplE-wA",
        "outputId": "ba876c79-8205-4a5f-fbda-a79a6d757468"
      },
      "execution_count": 12,
      "outputs": [
        {
          "output_type": "execute_result",
          "data": {
            "text/plain": [
              "                labels                                        description  \\\n",
              "0  SECURITY AND SAFETY  A self-driving public shuttle by Keolis North ...   \n",
              "1  SECURITY AND SAFETY  An Uber autonomous vehicle (AV) in autonomous ...   \n",
              "2          SOCIAL HARM  YouTube’s content filtering and recommendation...   \n",
              "3          SOCIAL HARM  Google Image returns results that under-repres...   \n",
              "4          SOCIAL HARM  Researchers from Boston University and Microso...   \n",
              "\n",
              "   category  \n",
              "0         2  \n",
              "1         2  \n",
              "2         3  \n",
              "3         3  \n",
              "4         3  "
            ],
            "text/html": [
              "\n",
              "  <div id=\"df-df164d18-f8be-4ef9-afa3-f9ce5ac29dde\" class=\"colab-df-container\">\n",
              "    <div>\n",
              "<style scoped>\n",
              "    .dataframe tbody tr th:only-of-type {\n",
              "        vertical-align: middle;\n",
              "    }\n",
              "\n",
              "    .dataframe tbody tr th {\n",
              "        vertical-align: top;\n",
              "    }\n",
              "\n",
              "    .dataframe thead th {\n",
              "        text-align: right;\n",
              "    }\n",
              "</style>\n",
              "<table border=\"1\" class=\"dataframe\">\n",
              "  <thead>\n",
              "    <tr style=\"text-align: right;\">\n",
              "      <th></th>\n",
              "      <th>labels</th>\n",
              "      <th>description</th>\n",
              "      <th>category</th>\n",
              "    </tr>\n",
              "  </thead>\n",
              "  <tbody>\n",
              "    <tr>\n",
              "      <th>0</th>\n",
              "      <td>SECURITY AND SAFETY</td>\n",
              "      <td>A self-driving public shuttle by Keolis North ...</td>\n",
              "      <td>2</td>\n",
              "    </tr>\n",
              "    <tr>\n",
              "      <th>1</th>\n",
              "      <td>SECURITY AND SAFETY</td>\n",
              "      <td>An Uber autonomous vehicle (AV) in autonomous ...</td>\n",
              "      <td>2</td>\n",
              "    </tr>\n",
              "    <tr>\n",
              "      <th>2</th>\n",
              "      <td>SOCIAL HARM</td>\n",
              "      <td>YouTube’s content filtering and recommendation...</td>\n",
              "      <td>3</td>\n",
              "    </tr>\n",
              "    <tr>\n",
              "      <th>3</th>\n",
              "      <td>SOCIAL HARM</td>\n",
              "      <td>Google Image returns results that under-repres...</td>\n",
              "      <td>3</td>\n",
              "    </tr>\n",
              "    <tr>\n",
              "      <th>4</th>\n",
              "      <td>SOCIAL HARM</td>\n",
              "      <td>Researchers from Boston University and Microso...</td>\n",
              "      <td>3</td>\n",
              "    </tr>\n",
              "  </tbody>\n",
              "</table>\n",
              "</div>\n",
              "    <div class=\"colab-df-buttons\">\n",
              "\n",
              "  <div class=\"colab-df-container\">\n",
              "    <button class=\"colab-df-convert\" onclick=\"convertToInteractive('df-df164d18-f8be-4ef9-afa3-f9ce5ac29dde')\"\n",
              "            title=\"Convert this dataframe to an interactive table.\"\n",
              "            style=\"display:none;\">\n",
              "\n",
              "  <svg xmlns=\"http://www.w3.org/2000/svg\" height=\"24px\" viewBox=\"0 -960 960 960\">\n",
              "    <path d=\"M120-120v-720h720v720H120Zm60-500h600v-160H180v160Zm220 220h160v-160H400v160Zm0 220h160v-160H400v160ZM180-400h160v-160H180v160Zm440 0h160v-160H620v160ZM180-180h160v-160H180v160Zm440 0h160v-160H620v160Z\"/>\n",
              "  </svg>\n",
              "    </button>\n",
              "\n",
              "  <style>\n",
              "    .colab-df-container {\n",
              "      display:flex;\n",
              "      gap: 12px;\n",
              "    }\n",
              "\n",
              "    .colab-df-convert {\n",
              "      background-color: #E8F0FE;\n",
              "      border: none;\n",
              "      border-radius: 50%;\n",
              "      cursor: pointer;\n",
              "      display: none;\n",
              "      fill: #1967D2;\n",
              "      height: 32px;\n",
              "      padding: 0 0 0 0;\n",
              "      width: 32px;\n",
              "    }\n",
              "\n",
              "    .colab-df-convert:hover {\n",
              "      background-color: #E2EBFA;\n",
              "      box-shadow: 0px 1px 2px rgba(60, 64, 67, 0.3), 0px 1px 3px 1px rgba(60, 64, 67, 0.15);\n",
              "      fill: #174EA6;\n",
              "    }\n",
              "\n",
              "    .colab-df-buttons div {\n",
              "      margin-bottom: 4px;\n",
              "    }\n",
              "\n",
              "    [theme=dark] .colab-df-convert {\n",
              "      background-color: #3B4455;\n",
              "      fill: #D2E3FC;\n",
              "    }\n",
              "\n",
              "    [theme=dark] .colab-df-convert:hover {\n",
              "      background-color: #434B5C;\n",
              "      box-shadow: 0px 1px 3px 1px rgba(0, 0, 0, 0.15);\n",
              "      filter: drop-shadow(0px 1px 2px rgba(0, 0, 0, 0.3));\n",
              "      fill: #FFFFFF;\n",
              "    }\n",
              "  </style>\n",
              "\n",
              "    <script>\n",
              "      const buttonEl =\n",
              "        document.querySelector('#df-df164d18-f8be-4ef9-afa3-f9ce5ac29dde button.colab-df-convert');\n",
              "      buttonEl.style.display =\n",
              "        google.colab.kernel.accessAllowed ? 'block' : 'none';\n",
              "\n",
              "      async function convertToInteractive(key) {\n",
              "        const element = document.querySelector('#df-df164d18-f8be-4ef9-afa3-f9ce5ac29dde');\n",
              "        const dataTable =\n",
              "          await google.colab.kernel.invokeFunction('convertToInteractive',\n",
              "                                                    [key], {});\n",
              "        if (!dataTable) return;\n",
              "\n",
              "        const docLinkHtml = 'Like what you see? Visit the ' +\n",
              "          '<a target=\"_blank\" href=https://colab.research.google.com/notebooks/data_table.ipynb>data table notebook</a>'\n",
              "          + ' to learn more about interactive tables.';\n",
              "        element.innerHTML = '';\n",
              "        dataTable['output_type'] = 'display_data';\n",
              "        await google.colab.output.renderOutput(dataTable, element);\n",
              "        const docLink = document.createElement('div');\n",
              "        docLink.innerHTML = docLinkHtml;\n",
              "        element.appendChild(docLink);\n",
              "      }\n",
              "    </script>\n",
              "  </div>\n",
              "\n",
              "\n",
              "<div id=\"df-ae7449f5-8947-495e-adc4-9aebf13c2dc5\">\n",
              "  <button class=\"colab-df-quickchart\" onclick=\"quickchart('df-ae7449f5-8947-495e-adc4-9aebf13c2dc5')\"\n",
              "            title=\"Suggest charts.\"\n",
              "            style=\"display:none;\">\n",
              "\n",
              "<svg xmlns=\"http://www.w3.org/2000/svg\" height=\"24px\"viewBox=\"0 0 24 24\"\n",
              "     width=\"24px\">\n",
              "    <g>\n",
              "        <path d=\"M19 3H5c-1.1 0-2 .9-2 2v14c0 1.1.9 2 2 2h14c1.1 0 2-.9 2-2V5c0-1.1-.9-2-2-2zM9 17H7v-7h2v7zm4 0h-2V7h2v10zm4 0h-2v-4h2v4z\"/>\n",
              "    </g>\n",
              "</svg>\n",
              "  </button>\n",
              "\n",
              "<style>\n",
              "  .colab-df-quickchart {\n",
              "      --bg-color: #E8F0FE;\n",
              "      --fill-color: #1967D2;\n",
              "      --hover-bg-color: #E2EBFA;\n",
              "      --hover-fill-color: #174EA6;\n",
              "      --disabled-fill-color: #AAA;\n",
              "      --disabled-bg-color: #DDD;\n",
              "  }\n",
              "\n",
              "  [theme=dark] .colab-df-quickchart {\n",
              "      --bg-color: #3B4455;\n",
              "      --fill-color: #D2E3FC;\n",
              "      --hover-bg-color: #434B5C;\n",
              "      --hover-fill-color: #FFFFFF;\n",
              "      --disabled-bg-color: #3B4455;\n",
              "      --disabled-fill-color: #666;\n",
              "  }\n",
              "\n",
              "  .colab-df-quickchart {\n",
              "    background-color: var(--bg-color);\n",
              "    border: none;\n",
              "    border-radius: 50%;\n",
              "    cursor: pointer;\n",
              "    display: none;\n",
              "    fill: var(--fill-color);\n",
              "    height: 32px;\n",
              "    padding: 0;\n",
              "    width: 32px;\n",
              "  }\n",
              "\n",
              "  .colab-df-quickchart:hover {\n",
              "    background-color: var(--hover-bg-color);\n",
              "    box-shadow: 0 1px 2px rgba(60, 64, 67, 0.3), 0 1px 3px 1px rgba(60, 64, 67, 0.15);\n",
              "    fill: var(--button-hover-fill-color);\n",
              "  }\n",
              "\n",
              "  .colab-df-quickchart-complete:disabled,\n",
              "  .colab-df-quickchart-complete:disabled:hover {\n",
              "    background-color: var(--disabled-bg-color);\n",
              "    fill: var(--disabled-fill-color);\n",
              "    box-shadow: none;\n",
              "  }\n",
              "\n",
              "  .colab-df-spinner {\n",
              "    border: 2px solid var(--fill-color);\n",
              "    border-color: transparent;\n",
              "    border-bottom-color: var(--fill-color);\n",
              "    animation:\n",
              "      spin 1s steps(1) infinite;\n",
              "  }\n",
              "\n",
              "  @keyframes spin {\n",
              "    0% {\n",
              "      border-color: transparent;\n",
              "      border-bottom-color: var(--fill-color);\n",
              "      border-left-color: var(--fill-color);\n",
              "    }\n",
              "    20% {\n",
              "      border-color: transparent;\n",
              "      border-left-color: var(--fill-color);\n",
              "      border-top-color: var(--fill-color);\n",
              "    }\n",
              "    30% {\n",
              "      border-color: transparent;\n",
              "      border-left-color: var(--fill-color);\n",
              "      border-top-color: var(--fill-color);\n",
              "      border-right-color: var(--fill-color);\n",
              "    }\n",
              "    40% {\n",
              "      border-color: transparent;\n",
              "      border-right-color: var(--fill-color);\n",
              "      border-top-color: var(--fill-color);\n",
              "    }\n",
              "    60% {\n",
              "      border-color: transparent;\n",
              "      border-right-color: var(--fill-color);\n",
              "    }\n",
              "    80% {\n",
              "      border-color: transparent;\n",
              "      border-right-color: var(--fill-color);\n",
              "      border-bottom-color: var(--fill-color);\n",
              "    }\n",
              "    90% {\n",
              "      border-color: transparent;\n",
              "      border-bottom-color: var(--fill-color);\n",
              "    }\n",
              "  }\n",
              "</style>\n",
              "\n",
              "  <script>\n",
              "    async function quickchart(key) {\n",
              "      const quickchartButtonEl =\n",
              "        document.querySelector('#' + key + ' button');\n",
              "      quickchartButtonEl.disabled = true;  // To prevent multiple clicks.\n",
              "      quickchartButtonEl.classList.add('colab-df-spinner');\n",
              "      try {\n",
              "        const charts = await google.colab.kernel.invokeFunction(\n",
              "            'suggestCharts', [key], {});\n",
              "      } catch (error) {\n",
              "        console.error('Error during call to suggestCharts:', error);\n",
              "      }\n",
              "      quickchartButtonEl.classList.remove('colab-df-spinner');\n",
              "      quickchartButtonEl.classList.add('colab-df-quickchart-complete');\n",
              "    }\n",
              "    (() => {\n",
              "      let quickchartButtonEl =\n",
              "        document.querySelector('#df-ae7449f5-8947-495e-adc4-9aebf13c2dc5 button');\n",
              "      quickchartButtonEl.style.display =\n",
              "        google.colab.kernel.accessAllowed ? 'block' : 'none';\n",
              "    })();\n",
              "  </script>\n",
              "</div>\n",
              "    </div>\n",
              "  </div>\n"
            ]
          },
          "metadata": {},
          "execution_count": 12
        }
      ]
    },
    {
      "cell_type": "code",
      "source": [
        "df.labels.value_counts().plot(kind='pie', figsize=(10,10))"
      ],
      "metadata": {
        "colab": {
          "base_uri": "https://localhost:8080/",
          "height": 551
        },
        "id": "rAZ4BdN0Q8tB",
        "outputId": "ee22e7e9-b29a-4c19-ad51-4d85b60583ed"
      },
      "execution_count": 13,
      "outputs": [
        {
          "output_type": "execute_result",
          "data": {
            "text/plain": [
              "<Axes: ylabel='labels'>"
            ]
          },
          "metadata": {},
          "execution_count": 13
        },
        {
          "output_type": "display_data",
          "data": {
            "text/plain": [
              "<Figure size 1000x1000 with 1 Axes>"
            ],
            "image/png": "[encoded data removed]"
          },
          "metadata": {}
        }
      ]
    },
    {
      "cell_type": "markdown",
      "source": [
        "Divide in train, test and val:"
      ],
      "metadata": {
        "id": "gvBUH-CSbdh9"
      }
    },
    {
      "cell_type": "code",
      "source": [
        "data_texts = df[\"description\"].to_list() # Features (not-tokenized yet)\n",
        "data_labels = df[\"category\"].to_list() # Labels"
      ],
      "metadata": {
        "id": "4vIER6dBWYnH"
      },
      "execution_count": 14,
      "outputs": []
    },
    {
      "cell_type": "code",
      "source": [
        "label_binarizer = LabelBinarizer()\n",
        "labels_encoded = label_binarizer.fit_transform(data_labels)"
      ],
      "metadata": {
        "id": "CNT9dbmJlHME"
      },
      "execution_count": 15,
      "outputs": []
    },
    {
      "cell_type": "code",
      "source": [
        "\n",
        "# Split Train and Validation data\n",
        "train_texts, val_texts, train_labels, val_labels = train_test_split(data_texts, labels_encoded, test_size=0.2, random_state=0)\n",
        "\n",
        "# Keep some data for inference (testing)\n",
        "#train_texts, test_texts, train_labels, test_labels = train_test_split(train_texts, train_labels, test_size=0.01, random_state=0)\n"
      ],
      "metadata": {
        "id": "3gnRWNtcWYkT"
      },
      "execution_count": 16,
      "outputs": []
    },
    {
      "cell_type": "markdown",
      "source": [
        "Tokenize:"
      ],
      "metadata": {
        "id": "Gi2qU0n8bgHy"
      }
    },
    {
      "cell_type": "code",
      "source": [
        "tokenizer = DistilBertTokenizer.from_pretrained('distilbert-base-uncased')\n",
        "train_encodings = tokenizer(train_texts, truncation=True, padding=True)\n",
        "val_encodings = tokenizer(val_texts, truncation=True, padding=True)"
      ],
      "metadata": {
        "id": "g7ABhBbhWYiC"
      },
      "execution_count": 17,
      "outputs": []
    },
    {
      "cell_type": "markdown",
      "source": [
        "Pass the data to tensor flow:"
      ],
      "metadata": {
        "id": "wECVK4n1by6j"
      }
    },
    {
      "cell_type": "code",
      "source": [
        "train_dataset = tf.data.Dataset.from_tensor_slices((\n",
        "    dict(train_encodings),\n",
        "    train_labels\n",
        "))\n",
        "val_dataset = tf.data.Dataset.from_tensor_slices((\n",
        "    dict(val_encodings),\n",
        "    val_labels\n",
        "))"
      ],
      "metadata": {
        "id": "7bPFR3D7WYfs"
      },
      "execution_count": 18,
      "outputs": []
    },
    {
      "cell_type": "markdown",
      "source": [
        "Training:"
      ],
      "metadata": {
        "id": "cMS7DGQBb77M"
      }
    },
    {
      "cell_type": "code",
      "source": [
        "model = TFDistilBertForSequenceClassification.from_pretrained('distilbert-base-uncased', num_labels=4)\n",
        "\n",
        "optimizer = tf.keras.optimizers.Adam(learning_rate=0.001)\n",
        "model.compile(optimizer=optimizer, loss='categorical_crossentropy', metrics=['accuracy'])"
      ],
      "metadata": {
        "colab": {
          "base_uri": "https://localhost:8080/"
        },
        "id": "jWz2jC6vcsMD",
        "outputId": "5ec1aeb4-930a-4296-dca9-e839a73a4c9b"
      },
      "execution_count": 27,
      "outputs": [
        {
          "output_type": "stream",
          "name": "stderr",
          "text": [
            "Some weights of the PyTorch model were not used when initializing the TF 2.0 model TFDistilBertForSequenceClassification: ['vocab_layer_norm.bias', 'vocab_transform.bias', 'vocab_layer_norm.weight', 'vocab_projector.bias', 'vocab_transform.weight']\n",
            "- This IS expected if you are initializing TFDistilBertForSequenceClassification from a PyTorch model trained on another task or with another architecture (e.g. initializing a TFBertForSequenceClassification model from a BertForPreTraining model).\n",
            "- This IS NOT expected if you are initializing TFDistilBertForSequenceClassification from a PyTorch model that you expect to be exactly identical (e.g. initializing a TFBertForSequenceClassification model from a BertForSequenceClassification model).\n",
            "Some weights or buffers of the TF 2.0 model TFDistilBertForSequenceClassification were not initialized from the PyTorch model and are newly initialized: ['pre_classifier.weight', 'pre_classifier.bias', 'classifier.weight', 'classifier.bias']\n",
            "You should probably TRAIN this model on a down-stream task to be able to use it for predictions and inference.\n"
          ]
        }
      ]
    },
    {
      "cell_type": "code",
      "source": [
        "model.fit(train_dataset.shuffle(1000).batch(8), epochs=5, batch_size=8,\n",
        "          validation_data=val_dataset.shuffle(1000).batch(8))"
      ],
      "metadata": {
        "colab": {
          "base_uri": "https://localhost:8080/"
        },
        "id": "vlUs6JKycsKW",
        "outputId": "8d92b327-f47e-4f25-e576-9f7691301e1b"
      },
      "execution_count": 28,
      "outputs": [
        {
          "output_type": "stream",
          "name": "stdout",
          "text": [
            "Epoch 1/5\n",
            "56/56 [==============================] - 32s 194ms/step - loss: 9.2400 - accuracy: 0.3761 - val_loss: 11.0812 - val_accuracy: 0.4107\n",
            "Epoch 2/5\n",
            "56/56 [==============================] - 6s 109ms/step - loss: 10.3824 - accuracy: 0.3874 - val_loss: 11.0812 - val_accuracy: 0.4107\n",
            "Epoch 3/5\n",
            "56/56 [==============================] - 6s 104ms/step - loss: 10.3824 - accuracy: 0.3874 - val_loss: 11.0812 - val_accuracy: 0.4107\n",
            "Epoch 4/5\n",
            "56/56 [==============================] - 5s 94ms/step - loss: 10.3824 - accuracy: 0.3874 - val_loss: 11.0812 - val_accuracy: 0.4107\n",
            "Epoch 5/5\n",
            "56/56 [==============================] - 6s 102ms/step - loss: 10.3824 - accuracy: 0.3874 - val_loss: 11.0812 - val_accuracy: 0.4107\n"
          ]
        },
        {
          "output_type": "execute_result",
          "data": {
            "text/plain": [
              "<keras.src.callbacks.History at 0x7ef9ac4846d0>"
            ]
          },
          "metadata": {},
          "execution_count": 28
        }
      ]
    },
    {
      "cell_type": "markdown",
      "source": [
        "Save the model:"
      ],
      "metadata": {
        "id": "pArbViNomzf2"
      }
    },
    {
      "cell_type": "code",
      "source": [
        "save_directory = \"/saved_models\" # change this to your preferred location\n",
        "\n",
        "model.save_pretrained(save_directory)\n",
        "tokenizer.save_pretrained(save_directory)"
      ],
      "metadata": {
        "colab": {
          "base_uri": "https://localhost:8080/"
        },
        "id": "Afdj3trmcsIA",
        "outputId": "5cc235d2-cc2b-4034-abae-36682e9da243"
      },
      "execution_count": 21,
      "outputs": [
        {
          "output_type": "execute_result",
          "data": {
            "text/plain": [
              "('/saved_models/tokenizer_config.json',\n",
              " '/saved_models/special_tokens_map.json',\n",
              " '/saved_models/vocab.txt',\n",
              " '/saved_models/added_tokens.json')"
            ]
          },
          "metadata": {},
          "execution_count": 21
        }
      ]
    },
    {
      "cell_type": "markdown",
      "source": [
        "Test new descriptions:"
      ],
      "metadata": {
        "id": "uTvjDFXYnIDl"
      }
    },
    {
      "cell_type": "code",
      "source": [
        "loaded_tokenizer = DistilBertTokenizer.from_pretrained(save_directory)\n",
        "loaded_model = TFDistilBertForSequenceClassification.from_pretrained(save_directory)"
      ],
      "metadata": {
        "colab": {
          "base_uri": "https://localhost:8080/"
        },
        "id": "QRv2yOcocsF5",
        "outputId": "4c819e37-9003-42e1-99d7-5cce02805a52"
      },
      "execution_count": 22,
      "outputs": [
        {
          "output_type": "stream",
          "name": "stderr",
          "text": [
            "Some layers from the model checkpoint at /saved_models were not used when initializing TFDistilBertForSequenceClassification: ['dropout_19']\n",
            "- This IS expected if you are initializing TFDistilBertForSequenceClassification from the checkpoint of a model trained on another task or with another architecture (e.g. initializing a BertForSequenceClassification model from a BertForPreTraining model).\n",
            "- This IS NOT expected if you are initializing TFDistilBertForSequenceClassification from the checkpoint of a model that you expect to be exactly identical (initializing a BertForSequenceClassification model from a BertForSequenceClassification model).\n",
            "Some layers of TFDistilBertForSequenceClassification were not initialized from the model checkpoint at /saved_models and are newly initialized: ['dropout_39']\n",
            "You should probably TRAIN this model on a down-stream task to be able to use it for predictions and inference.\n"
          ]
        }
      ]
    },
    {
      "cell_type": "code",
      "source": [
        "# test_text = test_texts[4]\n",
        "# test_text"
      ],
      "metadata": {
        "id": "NMnoS3-Mb9jX"
      },
      "execution_count": 23,
      "outputs": []
    },
    {
      "cell_type": "code",
      "source": [
        "# predict_input = loaded_tokenizer.encode(test_text,\n",
        "#                                  truncation=True,\n",
        "#                                  padding=True,\n",
        "#                                  return_tensors=\"tf\")\n",
        "\n",
        "# output = loaded_model(predict_input)[0]\n",
        "# print(output)\n",
        "# prediction_value = tf.argmax(output, axis=1).numpy()[0]\n",
        "\n",
        "# print(f\"Predicted Value: {prediction_value}\")\n",
        "# print(f\"Real value: {label_binarizer.inverse_transform(test_labels)[2]}\")"
      ],
      "metadata": {
        "id": "BtwWVRtHWYdt"
      },
      "execution_count": 24,
      "outputs": []
    },
    {
      "cell_type": "code",
      "source": [],
      "metadata": {
        "id": "S0ti8rchWYa-"
      },
      "execution_count": 24,
      "outputs": []
    }
  ],
  "metadata": {
    "kernelspec": {
      "display_name": "Python 3",
      "name": "python3"
    },
    "language_info": {
      "codemirror_mode": {
        "name": "ipython",
        "version": 3
      },
      "file_extension": ".py",
      "mimetype": "text/x-python",
      "name": "python",
      "nbconvert_exporter": "python",
      "pygments_lexer": "ipython3",
      "version": "3.10.4"
    },
    "colab": {
      "provenance": [],
      "gpuType": "T4"
    },
    "accelerator": "GPU"
  },
  "nbformat": 4,
  "nbformat_minor": 0
}